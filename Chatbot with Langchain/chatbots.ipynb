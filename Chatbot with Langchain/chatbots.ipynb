{
 "cells": [
  {
   "cell_type": "markdown",
   "id": "a5afddec",
   "metadata": {},
   "source": [
    "## Building A Chatbot\n",
    "In this video We'll go over an example of how to design and implement an LLM-powered chatbot. This chatbot will be able to have a coversation and remember previous interactions.\n",
    "\n",
    "Note that this chatbot that we build will only use language model to have a conversation. There are several other related concepts that you may be looking for:\n",
    "- Conversational RAG: Enable a chatbot experience over an external source of data.\n",
    "- Agents: Build a chatbot that can take actions\n",
    "\n",
    "This will cover the basics which will be helpful for those two more advanced topics."
   ]
  },
  {
   "cell_type": "markdown",
   "id": "ca3591b0",
   "metadata": {},
   "source": []
  }
 ],
 "metadata": {
  "language_info": {
   "name": "python"
  }
 },
 "nbformat": 4,
 "nbformat_minor": 5
}
