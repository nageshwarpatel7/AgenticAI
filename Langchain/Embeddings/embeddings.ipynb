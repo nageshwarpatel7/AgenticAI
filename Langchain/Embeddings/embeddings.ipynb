{
 "cells": [
  {
   "cell_type": "markdown",
   "id": "0b54a9d0",
   "metadata": {},
   "source": [
    "### Embedding Techniques\n",
    "\n",
    "- converts text into vectors/ numerical forms"
   ]
  },
  {
   "cell_type": "code",
   "execution_count": 1,
   "id": "2135374f",
   "metadata": {},
   "outputs": [
    {
     "data": {
      "text/plain": [
       "True"
      ]
     },
     "execution_count": 1,
     "metadata": {},
     "output_type": "execute_result"
    }
   ],
   "source": [
    "import os\n",
    "from dotenv import load_dotenv\n",
    "load_dotenv() # loads all the environment variables"
   ]
  },
  {
   "cell_type": "code",
   "execution_count": null,
   "id": "e4d7a24e",
   "metadata": {},
   "outputs": [],
   "source": []
  }
 ],
 "metadata": {
  "kernelspec": {
   "display_name": "Python 3",
   "language": "python",
   "name": "python3"
  },
  "language_info": {
   "codemirror_mode": {
    "name": "ipython",
    "version": 3
   },
   "file_extension": ".py",
   "mimetype": "text/x-python",
   "name": "python",
   "nbconvert_exporter": "python",
   "pygments_lexer": "ipython3",
   "version": "3.12.0"
  }
 },
 "nbformat": 4,
 "nbformat_minor": 5
}
