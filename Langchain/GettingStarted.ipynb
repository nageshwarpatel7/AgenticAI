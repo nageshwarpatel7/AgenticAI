{
 "cells": [
  {
   "cell_type": "markdown",
   "id": "0466667d",
   "metadata": {},
   "source": [
    "- Get Setup with LangChain, LangSmith, LangServe\n",
    "- Use the most basic and common components of LangChain: Prompt templates, models, and output parsers.\n",
    "- Built a simple application with LangChain\n",
    "- Trace Your application with LangSmith\n",
    "- Serve your application with LangServe"
   ]
  },
  {
   "cell_type": "code",
   "execution_count": null,
   "id": "e45d22d6",
   "metadata": {},
   "outputs": [],
   "source": []
  }
 ],
 "metadata": {
  "kernelspec": {
   "display_name": "Python 3",
   "language": "python",
   "name": "python3"
  },
  "language_info": {
   "name": "python",
   "version": "3.12.0"
  }
 },
 "nbformat": 4,
 "nbformat_minor": 5
}
