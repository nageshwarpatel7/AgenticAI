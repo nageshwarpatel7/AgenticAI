{
 "cells": [
  {
   "cell_type": "code",
   "execution_count": 1,
   "id": "83f3d47d",
   "metadata": {},
   "outputs": [
    {
     "name": "stdout",
     "output_type": "stream",
     "text": [
      "[1, 2, 3, 0, 0]\n"
     ]
    }
   ],
   "source": [
    "def moveZeroToend(arr,n):\n",
    "    \n",
    "    curr =0\n",
    "    for i in range(n):\n",
    "        if arr[i]!=0:\n",
    "            arr[curr]=arr[i]\n",
    "            curr+=1\n",
    "            \n",
    "    while curr<n:\n",
    "        arr[curr]=0\n",
    "        curr+=1\n",
    "            \n",
    "    return arr\n",
    "\n",
    "n= int(input())\n",
    "arr= list(map(int,input().split()))\n",
    "ans = moveZeroToend(arr,n)\n",
    "print(ans)"
   ]
  },
  {
   "cell_type": "code",
   "execution_count": 18,
   "id": "09cc6dc9",
   "metadata": {},
   "outputs": [
    {
     "name": "stdout",
     "output_type": "stream",
     "text": [
      "1\n"
     ]
    }
   ],
   "source": [
    "from collections import Counter\n",
    "def majorityEle(arr):\n",
    "    n =len(arr)\n",
    "    ans = Counter(arr)\n",
    "    for key,val in ans.items():\n",
    "        if (n//2)<=val:\n",
    "            return key \n",
    "    \n",
    "ans = majorityEle([1,1,2,1,3,5,1])\n",
    "print(ans)"
   ]
  },
  {
   "cell_type": "code",
   "execution_count": 26,
   "id": "8d493234",
   "metadata": {},
   "outputs": [
    {
     "name": "stdout",
     "output_type": "stream",
     "text": [
      "1 2 3 4 5 6\n"
     ]
    }
   ],
   "source": [
    "def union(arr1,arr2):\n",
    "    ans = arr1+arr2\n",
    "    return [*set(ans)]\n",
    "\n",
    "for _ in range(int(input())):\n",
    "    arr1= list(map(int,input().split()))\n",
    "    arr2= list(map(int,input().split()))\n",
    "    ans = union(arr1,arr2)\n",
    "    print(*ans)"
   ]
  },
  {
   "cell_type": "code",
   "execution_count": 1,
   "id": "3ac50922",
   "metadata": {},
   "outputs": [
    {
     "name": "stdout",
     "output_type": "stream",
     "text": [
      "Trainee Number: 1\n",
      "Trainee Number: 3\n"
     ]
    }
   ],
   "source": [
    "a1=int(input())\n",
    "if a1>100:\n",
    "    a1=0\n",
    "b1=int(input())\n",
    "if b1>100:\n",
    "    b1=0\n",
    "c1 =int(input())\n",
    "if c1>100:\n",
    "    c1=0\n",
    "a2=int(input())\n",
    "if a2>100:\n",
    "    a2=0\n",
    "b2=int(input())\n",
    "if b2>100:\n",
    "    b2=0\n",
    "c2 =int(input())\n",
    "if c2>100:\n",
    "    c2=0\n",
    "a3=int(input())\n",
    "if a3>100:\n",
    "    a3=0\n",
    "b3=int(input())\n",
    "if b3>100:\n",
    "    b3=0\n",
    "c3=int(input())\n",
    "if c3>100:\n",
    "    c3=0\n",
    "a_avg = (a1+a2+a3)//3\n",
    "b_avg = (b1+b2+b3)//3\n",
    "c_avg = (c1+c2+c3)//3\n",
    "ans= [a_avg,b_avg,c_avg]\n",
    "mx_avg =max(ans)\n",
    "\n",
    "for i in range(3):\n",
    "    if ans[i]==mx_avg:\n",
    "        print(f\"Trainee Number: {i+1}\")\n"
   ]
  },
  {
   "cell_type": "code",
   "execution_count": 5,
   "id": "703ce103",
   "metadata": {},
   "outputs": [
    {
     "name": "stdout",
     "output_type": "stream",
     "text": [
      "ap\n"
     ]
    }
   ],
   "source": [
    "a = input().split()\n",
    "\n",
    "ans =a[0]\n",
    "for i in range(1,len(a)):\n",
    "    x=\"\"\n",
    "    for j in range(min(len(a[i]),len(a[i-1]))):\n",
    "        if a[i][j]==a[i-1][j]:\n",
    "            x+=a[i][j]\n",
    "        else:\n",
    "            break\n",
    "    if len(x)<len(ans):\n",
    "        ans=x\n",
    "print(ans)"
   ]
  },
  {
   "cell_type": "code",
   "execution_count": 3,
   "id": "e11578a9",
   "metadata": {},
   "outputs": [
    {
     "name": "stdout",
     "output_type": "stream",
     "text": [
      "True\n"
     ]
    }
   ],
   "source": [
    "from collections import Counter\n",
    "s1 = input()\n",
    "s2 = input()\n",
    "k = int(input())\n",
    "if len(s1)!=len(s2):\n",
    "    print(\"False\")\n",
    "else:\n",
    "    a1 = Counter(s1)\n",
    "    a2 = Counter(s2)\n",
    "    count =0\n",
    "    for i,j in a1.items():\n",
    "        x=a2.get(i,0)\n",
    "        y= j\n",
    "        count+= min(x,y)\n",
    "    if len(s1)-count <=k:\n",
    "        print(\"True\")\n",
    "    else:\n",
    "        print(\"False\")\n",
    "        "
   ]
  },
  {
   "cell_type": "code",
   "execution_count": 6,
   "id": "4ee8ab1b",
   "metadata": {},
   "outputs": [
    {
     "name": "stdout",
     "output_type": "stream",
     "text": [
      "No\n"
     ]
    }
   ],
   "source": [
    "from collections import Counter\n",
    "s =input()\n",
    "if s.isalpha():\n",
    "    a = Counter(s.lower())\n",
    "    if len(a)==26:\n",
    "        print(\"Yes\")\n",
    "    else:\n",
    "        print(\"No\")\n",
    "else:\n",
    "    print(\"No\")"
   ]
  },
  {
   "cell_type": "code",
   "execution_count": 3,
   "id": "18462a41",
   "metadata": {},
   "outputs": [
    {
     "name": "stdout",
     "output_type": "stream",
     "text": [
      "2-5G-3J\n"
     ]
    }
   ],
   "source": [
    "'''\n",
    "s= '5f-3Z-2e-9-w'\n",
    "k=4\n",
    "output = '5F3Z_2E9W\"\n",
    "\n",
    "2.\n",
    "s='2-5g-3-j'\n",
    "k=2\n",
    "output = 2-5G-3J\n",
    "'''\n",
    "s= input()\n",
    "k = int(input())\n",
    "\n",
    "s= s.split('-')\n",
    "s= ''.join(s)\n",
    "ans =\"\"\n",
    "cnt =0\n",
    "for i in range(len(s)-1,-1,-1):\n",
    "    cnt+=1\n",
    "    if cnt%k==0:\n",
    "        ans= \"-\"+s[i]+ans \n",
    "        cnt=0\n",
    "    else:\n",
    "        ans = s[i]+ans \n",
    "if ans[0]=='-':\n",
    "    print(ans[1:].upper())\n",
    "else:\n",
    "    print(ans.upper())"
   ]
  },
  {
   "cell_type": "code",
   "execution_count": null,
   "id": "bd056e39",
   "metadata": {},
   "outputs": [
    {
     "name": "stdout",
     "output_type": "stream",
     "text": [
      "\n"
     ]
    }
   ],
   "source": [
    "'''\n",
    "your task is to find longest word in the dictionary that can be formed by deleting without reordering the remaining character \n",
    "if more than one possible word has the same length, return the word in lexicographicall order\n",
    "\n",
    "dct  = [ale,apple,monkey,plea]\n",
    "str = abpcplea\n",
    "output = apple\n",
    "\n",
    "2.\n",
    "dct =['a','b','c']\n",
    "str = abpcplea\n",
    "output = 'a'\n",
    "'''\n",
    "from collections import Counter\n",
    "dct = list(input().split())\n",
    "s = input()\n",
    "a1 = Counter(s)\n",
    "ans =\"\"\n",
    "for i in dct:\n",
    "    a2 = Counter(i)\n",
    "    is_True = True \n",
    "    for j in i:\n",
    "        if a1[i]<a2[j]:\n",
    "            is_True = False \n",
    "            break\n",
    "    if is_True:\n",
    "        if len(i)>len(ans):\n",
    "            ans =i   \n",
    "print(ans)    \n",
    "    \n",
    "\n"
   ]
  },
  {
   "cell_type": "code",
   "execution_count": 7,
   "id": "bf63a36e",
   "metadata": {},
   "outputs": [
    {
     "name": "stdout",
     "output_type": "stream",
     "text": [
      "15\n"
     ]
    }
   ],
   "source": [
    "## Q1.)\n",
    "arr = list(map(int,input().split()))\n",
    "print(sum(arr))"
   ]
  },
  {
   "cell_type": "code",
   "execution_count": 8,
   "id": "9fd7aad5",
   "metadata": {},
   "outputs": [
    {
     "name": "stdout",
     "output_type": "stream",
     "text": [
      "3.0\n"
     ]
    }
   ],
   "source": [
    "## Q2.)\n",
    "arr = list(map(int,input().split()))\n",
    "print(sum(arr)/len(arr))"
   ]
  },
  {
   "cell_type": "code",
   "execution_count": null,
   "id": "dcc1a6ac",
   "metadata": {},
   "outputs": [
    {
     "name": "stdout",
     "output_type": "stream",
     "text": [
      "Max Element is:  5\n",
      "Min element is:  1\n"
     ]
    }
   ],
   "source": [
    "## Q3)\n",
    "arr = list(map(int,input().split()))\n",
    "max = arr[0]\n",
    "min = arr[0]\n",
    "for i in arr:\n",
    "    if i<min:\n",
    "        mix = i \n",
    "    if i>max:\n",
    "        max =i \n",
    "print(\"Max Element is: \",max)\n",
    "print(\"Min element is: \",min)"
   ]
  },
  {
   "cell_type": "code",
   "execution_count": 10,
   "id": "96fad3e5",
   "metadata": {},
   "outputs": [
    {
     "name": "stdout",
     "output_type": "stream",
     "text": [
      "Given element is present at index 7\n"
     ]
    }
   ],
   "source": [
    "## Q4.)\n",
    "arr = list(map(int,input().split()))\n",
    "num = int(input())\n",
    "idx = -1\n",
    "for i in range(len(arr)):\n",
    "    if arr[i]==num:\n",
    "        idx =i\n",
    "        break \n",
    "if idx==-1:\n",
    "    print(\"GIven element is not present in array\")\n",
    "else:\n",
    "    print(f\"Given element is present at index {idx}\")"
   ]
  },
  {
   "cell_type": "code",
   "execution_count": 11,
   "id": "876e9825",
   "metadata": {},
   "outputs": [
    {
     "name": "stdout",
     "output_type": "stream",
     "text": [
      "number of occurence of 3 in given arr is: 3\n"
     ]
    }
   ],
   "source": [
    "## Q5.)\n",
    "arr = list(map(int,input().split()))\n",
    "num = int(input())\n",
    "cnt =0\n",
    "for i in arr:\n",
    "    if i==num:\n",
    "        cnt+=1\n",
    "print(f'number of occurence of {num} in given arr is: {cnt}')"
   ]
  },
  {
   "cell_type": "code",
   "execution_count": null,
   "id": "9c7bd18d",
   "metadata": {},
   "outputs": [
    {
     "name": "stdout",
     "output_type": "stream",
     "text": [
      "[1, 0, 2, 4, 5, 0, 6, 0]\n"
     ]
    }
   ],
   "source": [
    "# Q6.)\n",
    "arr = list(map(int,input().split()))\n",
    "num = int(input(\"Enter number to replace: \"))\n",
    "rep = int(input(\"Enter replaced number: \"))\n",
    "for i in range(len(arr)):\n",
    "    if arr[i]==num:\n",
    "        arr[i]=rep\n",
    "print(arr)\n"
   ]
  },
  {
   "cell_type": "code",
   "execution_count": 13,
   "id": "52374021",
   "metadata": {},
   "outputs": [
    {
     "name": "stdout",
     "output_type": "stream",
     "text": [
      "Given number is present in the array\n"
     ]
    }
   ],
   "source": [
    "# Q7.)\n",
    "arr = list(map(int,input().split()))\n",
    "num = int(input(\"Enter a number to serach: \"))\n",
    "ans = False\n",
    "for i in arr:\n",
    "    if i==num:\n",
    "        ans= True\n",
    "        break\n",
    "if ans:\n",
    "    print(\"Given number is present in the array\")\n",
    "else:\n",
    "    print(\"Given number is not prsent in the arr\")"
   ]
  },
  {
   "cell_type": "code",
   "execution_count": 14,
   "id": "8dddb5cf",
   "metadata": {},
   "outputs": [
    {
     "name": "stdout",
     "output_type": "stream",
     "text": [
      "Even elements in the arr: 4\n",
      "Odd elements present in the arr: 4\n"
     ]
    }
   ],
   "source": [
    "# Q8.)\n",
    "arr = list(map(int,input().split()))\n",
    "even =0\n",
    "odd =0\n",
    "for i in arr:\n",
    "    if i>0:\n",
    "        if i%2==0:\n",
    "            even+=1\n",
    "        else:\n",
    "            odd+=1\n",
    "print(f\"Even elements in the arr: {even}\")\n",
    "print(f\"Odd elements present in the arr: {odd}\")"
   ]
  },
  {
   "cell_type": "code",
   "execution_count": 18,
   "id": "07bfffdc",
   "metadata": {},
   "outputs": [
    {
     "name": "stdout",
     "output_type": "stream",
     "text": [
      "Even elements in the arr:  2 4 6 8\n",
      "Odd elements in the arr:  1 3 5 7\n"
     ]
    }
   ],
   "source": [
    "# Q9.)\n",
    "arr = list(map(int,input().split()))\n",
    "even =[]\n",
    "odd =[]\n",
    "for i in arr:\n",
    "    if i%2==0:\n",
    "        even.append(i)\n",
    "    else:\n",
    "        odd.append(i)\n",
    "print('Even elements in the arr: ',*even)\n",
    "print(f'Odd elements in the arr: ',*odd)"
   ]
  },
  {
   "cell_type": "code",
   "execution_count": null,
   "id": "6321714e",
   "metadata": {},
   "outputs": [
    {
     "name": "stdout",
     "output_type": "stream",
     "text": [
      "[1, 2, 3, 4, 5, 6]\n"
     ]
    }
   ],
   "source": [
    "## Q10.)\n",
    "arr = list(map(int,input().split()))\n",
    "copy_arr = arr.copy()\n",
    "print(copy_arr)"
   ]
  },
  {
   "cell_type": "code",
   "execution_count": 21,
   "id": "8e759583",
   "metadata": {},
   "outputs": [
    {
     "name": "stdout",
     "output_type": "stream",
     "text": [
      "[1, 2, 3, 4, 5, 6, 7, 8]\n"
     ]
    }
   ],
   "source": [
    "# Q11.)\n",
    "arr1 = list(map(int,input().split()))\n",
    "arr2 = list(map(int,input().split()))\n",
    "arr3 = arr1 +arr2\n",
    "print(arr3)"
   ]
  },
  {
   "cell_type": "code",
   "execution_count": 25,
   "id": "46de15bf",
   "metadata": {},
   "outputs": [
    {
     "data": {
      "text/plain": [
       "True"
      ]
     },
     "execution_count": 25,
     "metadata": {},
     "output_type": "execute_result"
    }
   ],
   "source": [
    "# Q12.)\n",
    "arr1 = list(map(int,input().split()))\n",
    "arr2 = list(map(int,input().split()))\n",
    "arr1.__eq__(arr2)"
   ]
  },
  {
   "cell_type": "code",
   "execution_count": 26,
   "id": "81fc5e34",
   "metadata": {},
   "outputs": [
    {
     "name": "stdout",
     "output_type": "stream",
     "text": [
      "First index of the given value is: 2\n"
     ]
    }
   ],
   "source": [
    "# Q13.)\n",
    "arr = list(map(int,input().split()))\n",
    "num = int(input())\n",
    "idx = -1\n",
    "for i in range(len(arr)):\n",
    "    if arr[i]==num:\n",
    "        idx =i \n",
    "        break\n",
    "print(f\"First index of the given value is: {idx}\")"
   ]
  },
  {
   "cell_type": "code",
   "execution_count": 27,
   "id": "9f223b98",
   "metadata": {},
   "outputs": [
    {
     "name": "stdout",
     "output_type": "stream",
     "text": [
      "Last occurence of given element is 3\n"
     ]
    }
   ],
   "source": [
    "# Q14.)\n",
    "arr = list(map(int,input().split()))\n",
    "num = int(input())\n",
    "idx =-1\n",
    "for i in range(len(arr)):\n",
    "    if arr[i]==num:\n",
    "        idx = i\n",
    "print(f\"Last occurence of given element is {idx}\")"
   ]
  },
  {
   "cell_type": "code",
   "execution_count": 1,
   "id": "4a91cb4c",
   "metadata": {},
   "outputs": [
    {
     "name": "stdout",
     "output_type": "stream",
     "text": [
      "[2, 3, 4, 5, 6, 6]\n"
     ]
    }
   ],
   "source": [
    "# Q15.)\n",
    "arr = list(map(int,input().split()))\n",
    "for i in range(len(arr)-1):\n",
    "    arr[i] = arr[i+1] \n",
    "print(arr)"
   ]
  },
  {
   "cell_type": "code",
   "execution_count": null,
   "id": "297b611b",
   "metadata": {},
   "outputs": [
    {
     "name": "stdout",
     "output_type": "stream",
     "text": [
      "[1, 1, 2, 3, 4]\n"
     ]
    }
   ],
   "source": [
    "# Q16)\n",
    "arr= list(map(int,input().split()))\n",
    "for i in range(len(arr)-1,0,-1):\n",
    "    arr[i] = arr[i-1]\n",
    "print(arr)"
   ]
  },
  {
   "cell_type": "code",
   "execution_count": 5,
   "id": "45f3570d",
   "metadata": {},
   "outputs": [
    {
     "name": "stdout",
     "output_type": "stream",
     "text": [
      "[1, 2, 2, 4, 4, 6]\n"
     ]
    }
   ],
   "source": [
    "# Q17.)\n",
    "arr = list(map(int,input().split()))\n",
    "arr.sort()\n",
    "print(arr)"
   ]
  },
  {
   "cell_type": "code",
   "execution_count": null,
   "id": "ecfb150d",
   "metadata": {},
   "outputs": [
    {
     "data": {
      "text/plain": [
       "[6, 4, 4, 2, 2, 1]"
      ]
     },
     "execution_count": 7,
     "metadata": {},
     "output_type": "execute_result"
    }
   ],
   "source": [
    "# Q18.)\n",
    "arr.sort(reverse= True)\n",
    "arr"
   ]
  },
  {
   "cell_type": "code",
   "execution_count": 8,
   "id": "4dc2c2f1",
   "metadata": {},
   "outputs": [
    {
     "name": "stdout",
     "output_type": "stream",
     "text": [
      "Second largest element in array is 25\n"
     ]
    }
   ],
   "source": [
    "# Q19.)\n",
    "arr = list(map(int,input().split()))\n",
    "mx = float('-inf')\n",
    "semx = float('-inf')\n",
    "for i in arr:\n",
    "    if i>mx:\n",
    "        semx = mx \n",
    "        mx =i\n",
    "    elif i>semx:\n",
    "        semx = i\n",
    "print(f'Second largest element in array is {semx}')"
   ]
  },
  {
   "cell_type": "code",
   "execution_count": 9,
   "id": "da08eccf",
   "metadata": {},
   "outputs": [
    {
     "name": "stdout",
     "output_type": "stream",
     "text": [
      "Second minimum element in the arr is 3\n"
     ]
    }
   ],
   "source": [
    "# Q20.)\n",
    "arr = list(map(int,input().split()))\n",
    "min = float('inf')\n",
    "secMin = float('inf')\n",
    "for i in arr:\n",
    "    if i<min:\n",
    "        secMin = min\n",
    "        min = i\n",
    "    elif secMin>i:\n",
    "        secMin = i \n",
    "print(f'Second minimum element in the arr is {secMin}')"
   ]
  },
  {
   "cell_type": "code",
   "execution_count": 10,
   "id": "9965a533",
   "metadata": {},
   "outputs": [
    {
     "name": "stdout",
     "output_type": "stream",
     "text": [
      "[1, 2, 3, 5, 6, 7]\n"
     ]
    }
   ],
   "source": [
    "# Q21.)\n",
    "arr = list(map(int,input().split()))\n",
    "ans = []\n",
    "for i in arr:\n",
    "    if i not in ans:\n",
    "        ans.append(i)\n",
    "print(ans)"
   ]
  },
  {
   "cell_type": "code",
   "execution_count": 11,
   "id": "33673817",
   "metadata": {},
   "outputs": [
    {
     "name": "stdout",
     "output_type": "stream",
     "text": [
      "Frequency of 1 is 1\n",
      "Frequency of 2 is 2\n",
      "Frequency of 3 is 2\n",
      "Frequency of 4 is 2\n",
      "Frequency of 5 is 2\n",
      "Frequency of 6 is 1\n"
     ]
    }
   ],
   "source": [
    "# Q22.)\n",
    "arr = list(map(int,input().split()))\n",
    "dct = {}\n",
    "for i in arr:\n",
    "    dct[i] = dct.get(i,0)+1\n",
    "for i,j in dct.items():\n",
    "    print(f'Frequency of {i} is {j}')"
   ]
  },
  {
   "cell_type": "code",
   "execution_count": 12,
   "id": "db8f290d",
   "metadata": {},
   "outputs": [
    {
     "name": "stdout",
     "output_type": "stream",
     "text": [
      "[1, 2, 3, 4, 5, 6, 7, 8, 9]\n"
     ]
    }
   ],
   "source": [
    "# Q23.)\n",
    "arr = list(map(int,input().split()))\n",
    "st =0\n",
    "ed = len(arr)-1\n",
    "while st<ed:\n",
    "    arr[st], arr[ed] = arr[ed], arr[st]\n",
    "    st +=1\n",
    "    ed -=1\n",
    "print(arr)"
   ]
  },
  {
   "cell_type": "code",
   "execution_count": null,
   "id": "97582926",
   "metadata": {},
   "outputs": [
    {
     "name": "stdout",
     "output_type": "stream",
     "text": [
      "Array after shifting  2  elements is 3 4 5 6 1 2\n"
     ]
    }
   ],
   "source": [
    "# Q24.)\n",
    "arr = list(map(int,input().split()))\n",
    "k = int(input())\n",
    "st = 0\n",
    "ed = k-1\n",
    "while st<ed:\n",
    "    arr[st], arr[ed] = arr[ed],arr[st]\n",
    "    st+=1\n",
    "    ed -=1\n",
    "st = k\n",
    "ed = len(arr)-1\n",
    "while st<ed:\n",
    "    arr[st],arr[ed]= arr[ed],arr[st]\n",
    "    st+=1\n",
    "    ed-=1\n",
    "st =0\n",
    "ed = len(arr)-1\n",
    "while st<ed:\n",
    "    arr[st],arr[ed]= arr[ed],arr[st]\n",
    "    st+=1\n",
    "    ed-=1\n",
    "print(\"Array after shifting \",k,\" elements to right is\", *arr)\n",
    "    "
   ]
  },
  {
   "cell_type": "code",
   "execution_count": null,
   "id": "49534d4b",
   "metadata": {},
   "outputs": [
    {
     "name": "stdout",
     "output_type": "stream",
     "text": [
      "Array after shifting  2  elements is 5 6 1 2 3 4\n"
     ]
    }
   ],
   "source": [
    "# Q25.)\n",
    "arr = list(map(int,input().split()))\n",
    "k = int(input())\n",
    "st = 0\n",
    "ed = len(arr)-k-1\n",
    "while st<ed:\n",
    "    arr[st],arr[ed] = arr[ed],arr[st]\n",
    "    st+=1\n",
    "    ed-=1\n",
    "st = len(arr)-k\n",
    "ed = len(arr)-1\n",
    "while st<ed:\n",
    "    arr[st],arr[ed]= arr[ed],arr[st]\n",
    "    st+=1\n",
    "    ed-=1\n",
    "st=0\n",
    "ed = len(arr)-1\n",
    "while st<ed:\n",
    "    arr[st],arr[ed]= arr[ed],arr[st]\n",
    "    st+=1\n",
    "    ed-=1\n",
    "print(\"Array after shifting \",k,\" elements to left is\", *arr)"
   ]
  },
  {
   "cell_type": "code",
   "execution_count": 6,
   "id": "c62ca85e",
   "metadata": {},
   "outputs": [
    {
     "name": "stdout",
     "output_type": "stream",
     "text": [
      "Third largest element is 4\n"
     ]
    }
   ],
   "source": [
    "# Q26.)\n",
    "arr = list(map(int,input().split()))\n",
    "mx = float('-inf')\n",
    "sec = float('-inf')\n",
    "third = float('-inf')\n",
    "\n",
    "for i in arr:\n",
    "    if i>mx:\n",
    "        third = sec\n",
    "        sec = mx \n",
    "        mx =i\n",
    "    elif i>sec:\n",
    "        third = sec\n",
    "        sec =i\n",
    "    elif i>third:\n",
    "        third=i\n",
    "print(f'Third largest element is {third}')"
   ]
  },
  {
   "cell_type": "code",
   "execution_count": 8,
   "id": "567ac808",
   "metadata": {},
   "outputs": [
    {
     "name": "stdout",
     "output_type": "stream",
     "text": [
      "Third smallest element is 2\n"
     ]
    }
   ],
   "source": [
    "# Q27)\n",
    "arr = list(map(int,input().split()))\n",
    "min = float('inf')\n",
    "secMin = float('inf')\n",
    "thirdMin = float('inf')\n",
    "for i in arr:\n",
    "    if i<min:\n",
    "        thirdMin = secMin\n",
    "        secMin = min\n",
    "        min = i\n",
    "    elif i<secMin:\n",
    "        thirdMin = secMin\n",
    "        secMin = i\n",
    "    elif i<thirdMin:\n",
    "        thirdMin = i\n",
    "print(f'Third smallest element is {thirdMin}')"
   ]
  },
  {
   "cell_type": "code",
   "execution_count": 9,
   "id": "3d4bafd4",
   "metadata": {},
   "outputs": [
    {
     "name": "stdout",
     "output_type": "stream",
     "text": [
      "Even sum is 12\n",
      "Odd sum is 9\n"
     ]
    }
   ],
   "source": [
    "# Q28)\n",
    "arr = list(map(int,input().split()))\n",
    "even = 0\n",
    "odd = 0\n",
    "for i in arr:\n",
    "    if i%2==0:\n",
    "        even+=i\n",
    "    else:\n",
    "        odd+=i\n",
    "print(f'Even sum is {even}')\n",
    "print(f'Odd sum is {odd}')"
   ]
  },
  {
   "cell_type": "code",
   "execution_count": null,
   "id": "762d6c90",
   "metadata": {},
   "outputs": [
    {
     "name": "stdout",
     "output_type": "stream",
     "text": [
      "[0, 0, 3, 4, 5, 6]\n"
     ]
    }
   ],
   "source": [
    "# Q29)\n",
    "arr = list(map(int,input().split()))\n",
    "for i in range(len(arr)):\n",
    "    if arr[i]<0:\n",
    "        arr[i]=0\n",
    "print(arr)"
   ]
  },
  {
   "cell_type": "code",
   "execution_count": 11,
   "id": "ab847b2e",
   "metadata": {},
   "outputs": [
    {
     "name": "stdout",
     "output_type": "stream",
     "text": [
      "[1, 1, 1, 2, 3, 4]\n"
     ]
    }
   ],
   "source": [
    "# Q30)\n",
    "arr = list(map(int,input().split()))\n",
    "for i in range(len(arr)):\n",
    "    if arr[i]==0:\n",
    "        arr[i]= 1\n",
    "print(arr)"
   ]
  },
  {
   "cell_type": "code",
   "execution_count": 12,
   "id": "71806d4b",
   "metadata": {},
   "outputs": [
    {
     "name": "stdout",
     "output_type": "stream",
     "text": [
      "Difference between largest and smallest element in the arr is 5\n"
     ]
    }
   ],
   "source": [
    "# Q31)\n",
    "arr = list(map(int,input().split()))\n",
    "mx = arr[0]\n",
    "mn = arr[0]\n",
    "for i in arr:\n",
    "    if i<mn:\n",
    "        mn = i\n",
    "    if i>mx:\n",
    "        mx =i \n",
    "print(f'Difference between largest and smallest element in the arr is {mx-mn}')"
   ]
  },
  {
   "cell_type": "code",
   "execution_count": 16,
   "id": "657706e8",
   "metadata": {},
   "outputs": [
    {
     "name": "stdout",
     "output_type": "stream",
     "text": [
      "Pair is 3 and 2\n",
      "Pair is 4 and 1\n",
      "Pair is 5 and 0\n"
     ]
    }
   ],
   "source": [
    "# Q32)\n",
    "arr = list(map(int,input().split()))\n",
    "k = int(input())\n",
    "dct ={}\n",
    "for i in range(len(arr)):\n",
    "    if dct.get(arr[i]) is None:\n",
    "        dct[k-arr[i]] = arr[i]\n",
    "    else:\n",
    "        print(f'Pair is {arr[i]} and {dct[arr[i]]}')\n",
    "\n"
   ]
  },
  {
   "cell_type": "code",
   "execution_count": 18,
   "id": "13ff78ec",
   "metadata": {},
   "outputs": [
    {
     "name": "stdout",
     "output_type": "stream",
     "text": [
      "Array is not sorted in Ascending order\n"
     ]
    }
   ],
   "source": [
    "# Q33)\n",
    "arr = list(map(int,input().split()))\n",
    "ans = True\n",
    "for i in range(1,len(arr)):\n",
    "    if arr[i-1]>arr[i]:\n",
    "        ans = False\n",
    "        break\n",
    "if ans:\n",
    "    print(\"Array is sorted in ascending order\")\n",
    "else:\n",
    "    print(\"Array is not sorted in Ascending order\")\n"
   ]
  },
  {
   "cell_type": "code",
   "execution_count": 19,
   "id": "07101b04",
   "metadata": {},
   "outputs": [
    {
     "name": "stdout",
     "output_type": "stream",
     "text": [
      "Total number is elements greater than 3 in the array is 3\n"
     ]
    }
   ],
   "source": [
    "# Q34)\n",
    "arr = list(map(int,input().split()))\n",
    "k = int(input())\n",
    "cnt = 0\n",
    "for i in arr:\n",
    "    if i>k:\n",
    "        cnt+=1\n",
    "print(f'Total number is elements greater than {k} in the array is {cnt}')"
   ]
  },
  {
   "cell_type": "code",
   "execution_count": 23,
   "id": "69a86dd1",
   "metadata": {},
   "outputs": [
    {
     "name": "stdout",
     "output_type": "stream",
     "text": [
      "[1, 2, 3, 4, 0, 0, 0]\n"
     ]
    }
   ],
   "source": [
    "# Q35)\n",
    "arr = list(map(int,input().split()))\n",
    "prev=0\n",
    "for i in range(len(arr)):\n",
    "    if arr[i]!=0:\n",
    "        arr[prev],arr[i]=arr[i],arr[prev]\n",
    "        prev+=1\n",
    "print(arr)"
   ]
  },
  {
   "cell_type": "code",
   "execution_count": 1,
   "id": "e9ccb2b4",
   "metadata": {},
   "outputs": [
    {
     "name": "stdout",
     "output_type": "stream",
     "text": [
      "[-1, 2, -2, 1, 3, 4]\n"
     ]
    }
   ],
   "source": [
    "# Q36)\n",
    "arr = list(map(int,input().split()))\n",
    "neg = 0\n",
    "i=0\n",
    "while i<len(arr):\n",
    "    if arr[i]<0:\n",
    "        arr[i],arr[neg] = arr[neg],arr[i]\n",
    "        neg+=2\n",
    "    i+=1\n",
    "print(arr)\n"
   ]
  },
  {
   "cell_type": "code",
   "execution_count": 42,
   "id": "71bec0bd",
   "metadata": {},
   "outputs": [
    {
     "name": "stdout",
     "output_type": "stream",
     "text": [
      "-1\n"
     ]
    }
   ],
   "source": [
    "## Q37)\n",
    "arr = list(map(int,input().split()))\n",
    "num =None\n",
    "cnt =0\n",
    "for i in range(len(arr)):\n",
    "    if cnt==0:\n",
    "        num= arr[i]\n",
    "        cnt=1\n",
    "    elif num ==arr[i]:\n",
    "        cnt+=1\n",
    "    else:\n",
    "        cnt-=1\n",
    "cnt1 = 0\n",
    "for i in arr:\n",
    "    if i==num:\n",
    "        cnt1+=1\n",
    "if cnt1>(len(arr)//2):\n",
    "    print(num)\n",
    "else:\n",
    "    print(-1)"
   ]
  },
  {
   "cell_type": "code",
   "execution_count": 43,
   "id": "47690374",
   "metadata": {},
   "outputs": [
    {
     "name": "stdout",
     "output_type": "stream",
     "text": [
      "[4, 5]\n"
     ]
    }
   ],
   "source": [
    "# Q38)\n",
    "arr1 = list(map(int,input().split()))\n",
    "arr2 = list(map(int,input().split()))\n",
    "arr1.sort()\n",
    "arr2.sort()\n",
    "n = len(arr1)\n",
    "m = len(arr2)\n",
    "i=0\n",
    "j=0\n",
    "a = set(arr1)\n",
    "b = set(arr2)\n",
    "c= a.intersection(b)\n",
    "print(list(c))"
   ]
  },
  {
   "cell_type": "code",
   "execution_count": 44,
   "id": "136ca6ea",
   "metadata": {},
   "outputs": [
    {
     "name": "stdout",
     "output_type": "stream",
     "text": [
      "[1, 2, 3, 4, 5, 6, 7, 8]\n"
     ]
    }
   ],
   "source": [
    "# Q39)\n",
    "arr1 = list(map(int,input().split()))\n",
    "arr2 = list(map(int,input().split()))\n",
    "arr1.sort()\n",
    "arr2.sort()\n",
    "n = len(arr1)\n",
    "m = len(arr2)\n",
    "i=0\n",
    "j=0\n",
    "a = set(arr1)\n",
    "b = set(arr2)\n",
    "c= a.union(b)\n",
    "print(list(c))"
   ]
  },
  {
   "cell_type": "code",
   "execution_count": 61,
   "id": "2026ab44",
   "metadata": {},
   "outputs": [
    {
     "name": "stdout",
     "output_type": "stream",
     "text": [
      "4\n"
     ]
    }
   ],
   "source": [
    "# Q40)\n",
    "a= list(map(int,input().split()))\n",
    "n = len(a)+1\n",
    "sm1=0\n",
    "for i in a:\n",
    "    sm1+=i\n",
    "ans = ((n*(n+1))//2) -sm1\n",
    "print(ans)"
   ]
  },
  {
   "cell_type": "code",
   "execution_count": 62,
   "id": "c81b5740",
   "metadata": {},
   "outputs": [
    {
     "name": "stdout",
     "output_type": "stream",
     "text": [
      "2\n"
     ]
    }
   ],
   "source": [
    "# Q41)\n",
    "arr = list(map(int,input().split()))\n",
    "mx =arr[0]\n",
    "for i in arr:\n",
    "    if i>mx:\n",
    "        mx =i \n",
    "dummy =[0]*(mx+1)\n",
    "for i in arr:\n",
    "    dummy[i]+=1\n",
    "for i in range(mx+1):\n",
    "    if dummy[i]>1:\n",
    "        print(i)   "
   ]
  },
  {
   "cell_type": "code",
   "execution_count": 67,
   "id": "21f09b42",
   "metadata": {},
   "outputs": [
    {
     "name": "stdout",
     "output_type": "stream",
     "text": [
      "1\n"
     ]
    }
   ],
   "source": [
    "# Q42\n",
    "arr = list(map(int,input().split()))\n",
    "ans = 0\n",
    "for i in arr:\n",
    "    ans^=i \n",
    "print(ans)"
   ]
  },
  {
   "cell_type": "code",
   "execution_count": null,
   "id": "2c0d1ab1",
   "metadata": {},
   "outputs": [
    {
     "name": "stdout",
     "output_type": "stream",
     "text": [
      "14\n"
     ]
    }
   ],
   "source": [
    "# Q43)\n",
    "arr = list(map(int,input().split()))\n",
    "curr=arr[0]\n",
    "mxSum =arr[0]\n",
    "for i in arr:\n",
    "    curr = max(i,curr+i)\n",
    "    mxSum = max(mxSum, curr)\n",
    "print(mxSum)"
   ]
  },
  {
   "cell_type": "code",
   "execution_count": 78,
   "id": "b38c22eb",
   "metadata": {},
   "outputs": [
    {
     "name": "stdout",
     "output_type": "stream",
     "text": [
      "[0, 1, 2, 3, 4, 5]\n",
      "2\n"
     ]
    }
   ],
   "source": [
    "# Q44)\n",
    "def subArrWithSumK(arr,i,j,sum,k):\n",
    "    prefix_sum = {0:1}\n",
    "    currSum =0\n",
    "    cnt =0\n",
    "    \n",
    "    for num in arr:\n",
    "        currSum+= num\n",
    "        \n",
    "        if (currSum -k) in prefix_sum:\n",
    "            cnt += prefix_sum[currSum-k]\n",
    "            \n",
    "        prefix_sum[currSum] = prefix_sum.get(currSum,0)+1\n",
    "    return cnt\n",
    "    \n",
    "arr = list(map(int,input().split()))\n",
    "k = int(input())\n",
    "ans = subArrWithSumK(arr,0,0,0,k)\n",
    "print(arr)\n",
    "print(ans)"
   ]
  },
  {
   "cell_type": "code",
   "execution_count": 1,
   "id": "c3c1eab5",
   "metadata": {},
   "outputs": [
    {
     "name": "stdout",
     "output_type": "stream",
     "text": [
      "8\n"
     ]
    }
   ],
   "source": [
    "# Q45.)\n",
    "arr = list(map(int,input().split()))\n",
    "k = int(input())\n",
    "\n",
    "preSum =0\n",
    "cnt =0\n",
    "pre_map ={0:1}\n",
    "for i in arr:\n",
    "    preSum+=i \n",
    "    if(preSum-k) in pre_map:\n",
    "        cnt+= pre_map[preSum-k]\n",
    "    pre_map[preSum] = pre_map.get(preSum,0)+1\n",
    "print(cnt)\n"
   ]
  },
  {
   "cell_type": "markdown",
   "id": "9c1d4fd6",
   "metadata": {},
   "source": [
    "### Strings Questions"
   ]
  },
  {
   "cell_type": "code",
   "execution_count": 4,
   "id": "c17d294c",
   "metadata": {},
   "outputs": [
    {
     "name": "stdout",
     "output_type": "stream",
     "text": [
      "rawhsegan\n",
      "rawhsegan\n"
     ]
    }
   ],
   "source": [
    "# Q1)\n",
    "s = input()\n",
    "rev= s[::-1]\n",
    "print(rev)\n",
    "\n",
    "rev2 = []\n",
    "for i in range(len(s)-1,-1,-1):\n",
    "    rev2.append(s[i])\n",
    "print(\"\".join(rev2))"
   ]
  },
  {
   "cell_type": "code",
   "execution_count": 5,
   "id": "c8d682e0",
   "metadata": {},
   "outputs": [
    {
     "name": "stdout",
     "output_type": "stream",
     "text": [
      "Palindromic string\n"
     ]
    }
   ],
   "source": [
    "# Q2)\n",
    "s= input()\n",
    "if s==s[::-1]:\n",
    "    print(\"Palindromic string\")\n",
    "else:\n",
    "    print(\"Not a palindromic String\")"
   ]
  },
  {
   "cell_type": "code",
   "execution_count": 6,
   "id": "b668f0ae",
   "metadata": {},
   "outputs": [
    {
     "name": "stdout",
     "output_type": "stream",
     "text": [
      "Vowels : 3\n",
      "Consonents : 6\n"
     ]
    }
   ],
   "source": [
    "# Q3)\n",
    "s= input()\n",
    "vow = 0\n",
    "con = 0\n",
    "for i in s:\n",
    "    if i.isalpha() and i.lower() in 'aeiou':\n",
    "        vow+=1\n",
    "    elif i.isalpha():\n",
    "        con+=1\n",
    "print(\"Vowels :\",vow)\n",
    "print(\"Consonents :\",con)"
   ]
  },
  {
   "cell_type": "code",
   "execution_count": null,
   "id": "9eca548b",
   "metadata": {},
   "outputs": [
    {
     "name": "stdout",
     "output_type": "stream",
     "text": [
      "NAGESHWAR\n",
      "nageshwar\n"
     ]
    }
   ],
   "source": [
    "#Q4)\n",
    "s= input()\n",
    "upperS = \"\"\n",
    "lowerS=\"\"\n",
    "for i in s:\n",
    "    if ord(i)>=65 and ord(i)<=90:\n",
    "        upperS+=i \n",
    "    else:\n",
    "        upperS = upperS + chr(ord('A')+ord(i)-ord('a'))\n",
    "    if ord(i)>=97 and ord(i)<=122:\n",
    "        lowerS+=i \n",
    "    else:\n",
    "        lowerS = lowerS + chr(ord('a')+ord(i)-ord('A'))\n",
    "print(upperS)\n",
    "print(lowerS)"
   ]
  },
  {
   "cell_type": "code",
   "execution_count": null,
   "id": "a6d07132",
   "metadata": {},
   "outputs": [
    {
     "name": "stdout",
     "output_type": "stream",
     "text": [
      "A : 65\n",
      "g : 103\n",
      "e : 101\n"
     ]
    }
   ],
   "source": [
    "# Q5)\n",
    "s= input()\n",
    "for i in s:\n",
    "    print(i,':',ord(i))"
   ]
  },
  {
   "cell_type": "code",
   "execution_count": null,
   "id": "d287afa0",
   "metadata": {},
   "outputs": [
    {
     "name": "stdout",
     "output_type": "stream",
     "text": [
      "Hellolucky\n"
     ]
    }
   ],
   "source": [
    "# Q6)\n",
    "s= input()\n",
    "ans = s.split(\" \")\n",
    "print(\"\".join(ans))"
   ]
  },
  {
   "cell_type": "code",
   "execution_count": 24,
   "id": "456164b1",
   "metadata": {},
   "outputs": [
    {
     "name": "stdout",
     "output_type": "stream",
     "text": [
      "8\n"
     ]
    }
   ],
   "source": [
    "# Q7)\n",
    "from collections import Counter\n",
    "s= input()\n",
    "dct = Counter(s)\n",
    "print(len(dct))"
   ]
  },
  {
   "cell_type": "code",
   "execution_count": 22,
   "id": "671999e7",
   "metadata": {},
   "outputs": [
    {
     "name": "stdout",
     "output_type": "stream",
     "text": [
      "Ngshwr\n"
     ]
    }
   ],
   "source": [
    "# Q8)\n",
    "s= input()\n",
    "ans = ''\n",
    "for i in s:\n",
    "    if i.lower() not in 'aeiou':\n",
    "        ans+=i \n",
    "print(ans)"
   ]
  },
  {
   "cell_type": "code",
   "execution_count": 25,
   "id": "b11bf981",
   "metadata": {},
   "outputs": [
    {
     "name": "stdout",
     "output_type": "stream",
     "text": [
      "Counter({'a': 2, 'n': 1, 'g': 1, 'e': 1, 's': 1, 'h': 1, 'w': 1, 'r': 1})\n"
     ]
    }
   ],
   "source": [
    "# Q9)\n",
    "from collections import Counter\n",
    "s= input()\n",
    "ans = Counter(s)\n",
    "print(ans)\n"
   ]
  },
  {
   "cell_type": "code",
   "execution_count": 28,
   "id": "7cb47d01",
   "metadata": {},
   "outputs": [
    {
     "name": "stdout",
     "output_type": "stream",
     "text": [
      "n\n"
     ]
    }
   ],
   "source": [
    "# Q10)\n",
    "s= input()\n",
    "dct ={}\n",
    "for i in s:\n",
    "    dct[i] =dct.get(i,0)+1\n",
    "\n",
    "for i in s:\n",
    "    if dct[i]==1:\n",
    "        print(i)\n",
    "        break\n",
    "\n"
   ]
  },
  {
   "cell_type": "code",
   "execution_count": 29,
   "id": "8305172e",
   "metadata": {},
   "outputs": [
    {
     "name": "stdout",
     "output_type": "stream",
     "text": [
      "a\n"
     ]
    }
   ],
   "source": [
    "# Q11)\n",
    "s= input()\n",
    "dct ={}\n",
    "for i in s:\n",
    "    if dct.get(i) is not None:\n",
    "        print(i)\n",
    "        break\n",
    "    dct[i] = 1"
   ]
  },
  {
   "cell_type": "code",
   "execution_count": 31,
   "id": "ea75fb4a",
   "metadata": {},
   "outputs": [
    {
     "name": "stdout",
     "output_type": "stream",
     "text": [
      "Anagram strings\n"
     ]
    }
   ],
   "source": [
    "# Q12)\n",
    "from collections import Counter\n",
    "s1 = input()\n",
    "s2 = input()\n",
    "dct1=Counter(s1)\n",
    "dct2= Counter(s2)\n",
    "ans = True\n",
    "if len(s1)!=len(s2):\n",
    "    ans=False\n",
    "else:\n",
    "    for i in s1:\n",
    "        if dct1[i]!=dct2[i]:\n",
    "            ans = False\n",
    "            break\n",
    "if ans:\n",
    "    print(\"Anagram strings\")\n",
    "else:\n",
    "    print(\"Not Anagram\")"
   ]
  },
  {
   "cell_type": "code",
   "execution_count": 33,
   "id": "ca75921b",
   "metadata": {},
   "outputs": [
    {
     "name": "stdout",
     "output_type": "stream",
     "text": [
      "Both Strings are rotations of each other\n"
     ]
    }
   ],
   "source": [
    "# Q13)\n",
    "s1 = input()\n",
    "s2  =input()\n",
    "if s1[::-1]==s2:\n",
    "    print(\"Both Strings are rotations of each other\")\n",
    "else:\n",
    "    print(\"Not Rotations\")"
   ]
  },
  {
   "cell_type": "code",
   "execution_count": 34,
   "id": "12f4300f",
   "metadata": {},
   "outputs": [
    {
     "name": "stdout",
     "output_type": "stream",
     "text": [
      "['p', 'l', 'e', 'a']\n"
     ]
    }
   ],
   "source": [
    "# Q14)\n",
    "s= input()\n",
    "ans = set()\n",
    "for i in s:\n",
    "    ans.add(i)\n",
    "print(list(ans))\n"
   ]
  },
  {
   "cell_type": "code",
   "execution_count": null,
   "id": "a286e6c1",
   "metadata": {},
   "outputs": [
    {
     "name": "stdout",
     "output_type": "stream",
     "text": [
      "Integer\n"
     ]
    }
   ],
   "source": [
    "# Q15)\n",
    "s= input()\n",
    "try: \n",
    "    s= int(s)\n",
    "    print(\"It only contains digits.\")\n",
    "except:\n",
    "    print(\"It contains non-digit characters.\")"
   ]
  },
  {
   "cell_type": "code",
   "execution_count": 36,
   "id": "a90c4e75",
   "metadata": {},
   "outputs": [
    {
     "name": "stdout",
     "output_type": "stream",
     "text": [
      "Length of String is: 9\n"
     ]
    }
   ],
   "source": [
    "# Q16)\n",
    "s= input()\n",
    "cnt =0\n",
    "for i in s:\n",
    "    cnt+=1\n",
    "print(\"Length of String is:\", cnt)"
   ]
  },
  {
   "cell_type": "code",
   "execution_count": 37,
   "id": "786ff722",
   "metadata": {},
   "outputs": [
    {
     "name": "stdout",
     "output_type": "stream",
     "text": [
      "nAGESHWAR\n"
     ]
    }
   ],
   "source": [
    "# Q17)\n",
    "s= input()\n",
    "ans =''\n",
    "for i in s:\n",
    "    if i.isupper():\n",
    "        ans+= i.lower()\n",
    "    else:\n",
    "        ans+=i.upper()\n",
    "print(ans)"
   ]
  },
  {
   "cell_type": "code",
   "execution_count": 38,
   "id": "0d4d85a1",
   "metadata": {},
   "outputs": [
    {
     "name": "stdout",
     "output_type": "stream",
     "text": [
      "happy-new-year\n"
     ]
    }
   ],
   "source": [
    "# Q18)\n",
    "s= input()\n",
    "s= s.replace(\" \",\"-\")\n",
    "print(s)"
   ]
  },
  {
   "cell_type": "code",
   "execution_count": 39,
   "id": "263d5162",
   "metadata": {},
   "outputs": [
    {
     "name": "stdout",
     "output_type": "stream",
     "text": [
      "w\n"
     ]
    }
   ],
   "source": [
    "# Q19)\n",
    "s= input()\n",
    "ans =s[0]\n",
    "for i in s:\n",
    "    if i>ans:\n",
    "        ans =i\n",
    "print(ans)"
   ]
  },
  {
   "cell_type": "code",
   "execution_count": 40,
   "id": "2e6f4568",
   "metadata": {},
   "outputs": [
    {
     "name": "stdout",
     "output_type": "stream",
     "text": [
      "a\n"
     ]
    }
   ],
   "source": [
    "# Q20)\n",
    "s= input()\n",
    "ans =s[0]\n",
    "for i in s:\n",
    "    if i<ans:\n",
    "        ans =i\n",
    "print(ans)"
   ]
  },
  {
   "cell_type": "code",
   "execution_count": null,
   "id": "a47532eb",
   "metadata": {},
   "outputs": [
    {
     "name": "stdout",
     "output_type": "stream",
     "text": [
      "Character d has frequency 2\n",
      "Character e has frequency 2\n",
      "Character f has frequency 2\n",
      "Character h has frequency 4\n",
      "Character j has frequency 3\n",
      "Character k has frequency 2\n"
     ]
    }
   ],
   "source": [
    "# Q21)\n",
    "def dupli(s):\n",
    "    arr= [0]*26\n",
    "    for i in s:\n",
    "        arr[ord(i.lower())-97]+=1\n",
    "    return arr \n",
    "\n",
    "s= input()\n",
    "ans = dupli(s)\n",
    "for i in range(26):\n",
    "    if ans[i]>1:\n",
    "        print(f'Character {chr(i+97)} has frequency {ans[i]}')"
   ]
  },
  {
   "cell_type": "code",
   "execution_count": 42,
   "id": "bb00ac07",
   "metadata": {},
   "outputs": [
    {
     "name": "stdout",
     "output_type": "stream",
     "text": [
      "yppah wen raey\n"
     ]
    }
   ],
   "source": [
    "# Q22)\n",
    "s= input()\n",
    "arr = s.split()\n",
    "for i in range(len(arr)):\n",
    "    arr[i] = arr[i][::-1]\n",
    "print(\" \".join(arr))"
   ]
  },
  {
   "cell_type": "code",
   "execution_count": 43,
   "id": "75da09ca",
   "metadata": {},
   "outputs": [
    {
     "name": "stdout",
     "output_type": "stream",
     "text": [
      "Uppercase characters: 0\n",
      "Lowercase characters: 7\n",
      "Numeric characters: 4\n",
      "Special characters: 4\n"
     ]
    }
   ],
   "source": [
    "# Q23)\n",
    "s= input()\n",
    "upp =0\n",
    "low =0\n",
    "num =0\n",
    "spec =0\n",
    "for i in s:\n",
    "    if i.isupper():\n",
    "        upp+=1\n",
    "    elif i.islower():\n",
    "        low+=1\n",
    "    elif i.isdigit():\n",
    "        num+=1\n",
    "    else:\n",
    "        spec+=1\n",
    "print(f'Uppercase characters: {upp}')\n",
    "print(f'Lowercase characters: {low}')\n",
    "print(f'Numeric characters: {num}')\n",
    "print(f'Special characters: {spec}')"
   ]
  },
  {
   "cell_type": "code",
   "execution_count": 45,
   "id": "e999489b",
   "metadata": {},
   "outputs": [
    {
     "name": "stdout",
     "output_type": "stream",
     "text": [
      "a\n",
      "ap\n",
      "app\n",
      "appl\n",
      "apple\n",
      "p\n",
      "pp\n",
      "ppl\n",
      "pple\n",
      "p\n",
      "pl\n",
      "ple\n",
      "l\n",
      "le\n",
      "e\n"
     ]
    }
   ],
   "source": [
    "# Q24) Print all subString of s string\n",
    "s = input()\n",
    "for i in range(len(s)):\n",
    "    for j in range(i + 1, len(s) + 1):\n",
    "        print(s[i:j])"
   ]
  },
  {
   "cell_type": "code",
   "execution_count": null,
   "id": "a5eea69d",
   "metadata": {},
   "outputs": [
    {
     "name": "stdout",
     "output_type": "stream",
     "text": [
      "The string is a  pangram\n"
     ]
    }
   ],
   "source": [
    "# Q25)\n",
    "s= input()\n",
    "ans = set()\n",
    "for i in s:\n",
    "    if i.isalpha():\n",
    "        ans.add(i.lower())\n",
    "if len(ans) == 26:\n",
    "    print(\"The string is a pangram\")\n",
    "else:\n",
    "    print(\"The string is not a pangram\")"
   ]
  },
  {
   "cell_type": "code",
   "execution_count": null,
   "id": "0f6e1f72",
   "metadata": {},
   "outputs": [
    {
     "name": "stdout",
     "output_type": "stream",
     "text": [
      "String can be rearranged to form a palindrome\n"
     ]
    }
   ],
   "source": [
    "# Q26)\n",
    "from collections import Counter\n",
    "s= input()\n",
    "dct = Counter(s)\n",
    "cnt  =0\n",
    "for i,j in dct.items():\n",
    "    if j==1:\n",
    "        cnt+=1\n",
    "if cnt>1:\n",
    "    print(\"The string cannot rearranged to form a palindromw\")\n",
    "else:\n",
    "    print(\"String can be rearranged to form a palindrome\")"
   ]
  },
  {
   "cell_type": "code",
   "execution_count": 50,
   "id": "c907fa40",
   "metadata": {},
   "outputs": [
    {
     "name": "stdout",
     "output_type": "stream",
     "text": [
      "nitin\n"
     ]
    }
   ],
   "source": [
    "# Q27)\n",
    "s= input()\n",
    "ans =s[0]\n",
    "for i in range(len(s)):\n",
    "    for j in range(i,len(s)):\n",
    "        if s[i:j+1]==s[i:j+1][::-1] and len(s[i:j+1])>len(ans):\n",
    "            ans = s[i:j+1]\n",
    "print(ans)"
   ]
  },
  {
   "cell_type": "code",
   "execution_count": null,
   "id": "683a65fd",
   "metadata": {},
   "outputs": [
    {
     "name": "stdout",
     "output_type": "stream",
     "text": [
      "abc2d2a3\n"
     ]
    }
   ],
   "source": [
    "# Q28)\n",
    "s= input()\n",
    "cnt =1\n",
    "ans =s[0]\n",
    "for i in range(1,len(s)):\n",
    "    if s[i]==s[i-1]:\n",
    "        cnt+=1 \n",
    "    else:\n",
    "        if cnt>1:\n",
    "            ans+= str(cnt)\n",
    "        ans+= s[i]\n",
    "        cnt=1 \n",
    "if cnt>1:\n",
    "    ans+= str(cnt)\n",
    "print(ans)"
   ]
  },
  {
   "cell_type": "code",
   "execution_count": 54,
   "id": "39f24a34",
   "metadata": {},
   "outputs": [
    {
     "name": "stdout",
     "output_type": "stream",
     "text": [
      "[4, 3]\n"
     ]
    }
   ],
   "source": [
    "'''\n",
    "Problem Statement  :\n",
    "\n",
    "Write a program to find the nth largest and nth smallest item in the array and print them in the same line.\n",
    "\n",
    "Input Format\n",
    "The first line has the following –\n",
    "Size of array, value of n\n",
    "2nd line has the array\n",
    "\n",
    "Output Format\n",
    "Nth largest and nth smallest respectively\n",
    "\n",
    "'''\n",
    "\n",
    "import heapq\n",
    "def nthLargestSmallest(arr,n):\n",
    "    if n>len(arr):\n",
    "        return None,None\n",
    "    largest = heapq.nlargest(n,arr)[-1]\n",
    "    smallest = heapq.nsmallest(n,arr)[-1]\n",
    "    return [largest, smallest]\n",
    "\n",
    "arr =[1,2,3,4,5,6]\n",
    "n =3\n",
    "print(nthLargestSmallest(arr,n))"
   ]
  },
  {
   "cell_type": "code",
   "execution_count": 60,
   "id": "391a7b09",
   "metadata": {},
   "outputs": [
    {
     "name": "stdout",
     "output_type": "stream",
     "text": [
      "[4, 3]\n"
     ]
    }
   ],
   "source": [
    "import heapq\n",
    "arr= [1,2,3,4,5,6]\n",
    "n= 3\n",
    "largest = heapq.nlargest(n,arr)[-1]\n",
    "smallest = heapq.nsmallest(n,arr)[-1]\n",
    "print([largest,smallest])"
   ]
  },
  {
   "cell_type": "code",
   "execution_count": 56,
   "id": "c5cc5a2b",
   "metadata": {},
   "outputs": [
    {
     "name": "stdout",
     "output_type": "stream",
     "text": [
      "[1, 2, 3, 4, 5]\n"
     ]
    }
   ],
   "source": [
    "# 1. Remove all duplicate numbers keeping first occurrence (stable)\n",
    "def removeDuplicate(arr):\n",
    "    ans =[]\n",
    "    for i in arr:\n",
    "        if i not in ans:\n",
    "            ans.append(i)\n",
    "    return ans\n",
    "arr = [1,2,3,1,2,4,5]\n",
    "print(removeDuplicate(arr))"
   ]
  },
  {
   "cell_type": "code",
   "execution_count": 59,
   "id": "98711041",
   "metadata": {},
   "outputs": [
    {
     "name": "stdout",
     "output_type": "stream",
     "text": [
      "[8, -1, 1, 3, 6]\n"
     ]
    }
   ],
   "source": [
    "# 2. Next greater element / next greater to right\n",
    "def nextGreaterElement(arr):\n",
    "    n= len(arr)\n",
    "    res =[-1]*n\n",
    "    stack =[]\n",
    "    for i in range(2*n-1,-1,-1):\n",
    "        while stack and stack[-1]<=arr[i%n]:\n",
    "            stack.pop()\n",
    "        if stack:\n",
    "            res[i%n]=stack[-1]\n",
    "        stack.append(arr[i%n])\n",
    "    return res\n",
    "arr = [6, 8, 0, 1, 3]\n",
    "print(nextGreaterElement(arr))"
   ]
  },
  {
   "cell_type": "code",
   "execution_count": 61,
   "id": "8ca2705a",
   "metadata": {},
   "outputs": [
    {
     "name": "stdout",
     "output_type": "stream",
     "text": [
      "[8, -1, 1, 3, -1]\n"
     ]
    }
   ],
   "source": [
    "arr = [6,8,0,1,3]\n",
    "ans =[-1]*len(arr)\n",
    "st =[]\n",
    "for i in range(len(arr)-1,-1,-1):\n",
    "    while st and st[-1]<=arr[i]:\n",
    "        st.pop()\n",
    "    if st:\n",
    "        ans[i]= st[-1]\n",
    "    st.append(arr[i])\n",
    "print(ans)"
   ]
  },
  {
   "cell_type": "code",
   "execution_count": 58,
   "id": "9bde2d0e",
   "metadata": {},
   "outputs": [
    {
     "name": "stdout",
     "output_type": "stream",
     "text": [
      "3\n"
     ]
    }
   ],
   "source": [
    "# 3. Longest substring without repeating characters\n",
    "def LongestSubstringWithoutRepeating(s):\n",
    "    char_map = {}\n",
    "    left = 0\n",
    "    max_length = 0\n",
    "\n",
    "    for right in range(len(s)):\n",
    "        if s[right] in char_map:\n",
    "            left = max(left, char_map[s[right]] + 1)\n",
    "        char_map[s[right]] = right\n",
    "        max_length = max(max_length, right - left + 1)\n",
    "\n",
    "    return max_length\n",
    "s = \"abcabcbb\"\n",
    "print(LongestSubstringWithoutRepeating(s))\n"
   ]
  },
  {
   "cell_type": "code",
   "execution_count": 63,
   "id": "82c96ecf",
   "metadata": {},
   "outputs": [
    {
     "name": "stdout",
     "output_type": "stream",
     "text": [
      "4\n"
     ]
    }
   ],
   "source": [
    "s = \"abcabcdbb\"\n",
    "mp ={}\n",
    "left=0\n",
    "max_len =0\n",
    "for i in range(len(s)):\n",
    "    if s[i] in mp:\n",
    "        left = max(left, mp[s[i]]+1)\n",
    "    mp[s[i]]=i\n",
    "    max_len = max(max_len,i-left+1)\n",
    "print(max_len)"
   ]
  },
  {
   "cell_type": "code",
   "execution_count": null,
   "id": "40dc262a",
   "metadata": {},
   "outputs": [],
   "source": [
    "#  Product of array except self\n",
    "def productExceptSelf(nums):\n",
    "    n = len(nums)\n",
    "    output = [1] * n\n",
    "\n",
    "    # Calculate left products\n",
    "    left_product = 1\n",
    "    for i in range(n):\n",
    "        output[i] = left_product\n",
    "        left_product *= nums[i]\n",
    "\n",
    "    # Calculate right products and final output\n",
    "    right_product = 1\n",
    "    for i in range(n-1, -1, -1):\n",
    "        output[i] *= right_product\n",
    "        right_product *= nums[i]\n",
    "\n",
    "    return output\n",
    "\n",
    "nums = [1, 2, 3, 4]\n",
    "print(productExceptSelf(nums))\n"
   ]
  },
  {
   "cell_type": "code",
   "execution_count": 65,
   "id": "f5ecb5d0",
   "metadata": {},
   "outputs": [
    {
     "name": "stdout",
     "output_type": "stream",
     "text": [
      "[24, 12, 8, 6]\n"
     ]
    }
   ],
   "source": [
    "arr = [1,2,3,4]\n",
    "left_prod= 1\n",
    "output =[1]*len(arr)\n",
    "for i in range(len(arr)):\n",
    "    output[i]= left_prod\n",
    "    left_prod *= arr[i]\n",
    "\n",
    "right_prod =1\n",
    "for i in range(len(arr)-1,-1,-1):\n",
    "    output[i]*= right_prod\n",
    "    right_prod *= arr[i]\n",
    "    \n",
    "print(output)"
   ]
  },
  {
   "cell_type": "code",
   "execution_count": 70,
   "id": "da327d97",
   "metadata": {},
   "outputs": [
    {
     "name": "stdout",
     "output_type": "stream",
     "text": [
      "3\n",
      "3\n"
     ]
    }
   ],
   "source": [
    "# 6. Reverse string & count chars that remain in original index after reverse\n",
    "def rev_str_count(str):\n",
    "    rev_s = str[::-1]\n",
    "    cnt =0\n",
    "    for i in range(len(str)):\n",
    "        if str[i]==rev_s[i]:\n",
    "            cnt+=1\n",
    "    return cnt \n",
    "print(rev_str_count(\"abcbe\"))\n",
    "\n",
    "## OR\n",
    "def rev_str_count(s):\n",
    "    cnt =0\n",
    "    n= len(s)\n",
    "    for i in range(n//2):\n",
    "        if s[i]==s[n-i-1]:\n",
    "            cnt+=2\n",
    "    if n%2!=0:\n",
    "        cnt+=1\n",
    "    return cnt\n",
    "print(rev_str_count(\"abcbe\"))"
   ]
  },
  {
   "cell_type": "code",
   "execution_count": null,
   "id": "41012d63",
   "metadata": {},
   "outputs": [
    {
     "ename": "SyntaxError",
     "evalue": "incomplete input (1988880267.py, line 4)",
     "output_type": "error",
     "traceback": [
      "  \u001b[36mCell\u001b[39m\u001b[36m \u001b[39m\u001b[32mIn[71]\u001b[39m\u001b[32m, line 4\u001b[39m\n\u001b[31m    \u001b[39m\u001b[31mdef __init__(self, data):\u001b[39m\n                             ^\n\u001b[31mSyntaxError\u001b[39m\u001b[31m:\u001b[39m incomplete input\n"
     ]
    }
   ],
   "source": [
    "# 7. Add numbers represented by linked lists\n",
    "\n",
    "class Node:\n",
    "    def __init__(self, data):\n",
    "        self.data = data\n",
    "        self.next = None\n",
    "\n",
    "class LinkedList:\n",
    "    def __init__(self):\n",
    "        self.head = None \n",
    "    \n",
    "    def insert(self,data):\n",
    "        newnode = Node(data)\n",
    "        if self.head is None:\n",
    "            self.head = newnode\n",
    "            return \n",
    "        curr= self.head \n",
    "        while curr.next:\n",
    "            curr = curr.next\n",
    "        curr.next = newnode \n",
    "lst = LinkedList()\n",
    "lst.insert(1)\n",
    "lst.insert(2)\n",
    "lst.insert(3)\n",
    "\n",
    "        \n",
    "                "
   ]
  },
  {
   "cell_type": "code",
   "execution_count": 72,
   "id": "cc598f3f",
   "metadata": {},
   "outputs": [
    {
     "name": "stdout",
     "output_type": "stream",
     "text": [
      "[8, -1, 1, 3, -1]\n"
     ]
    }
   ],
   "source": [
    "def nextGreaterElement(arr):\n",
    "    n = len(arr)\n",
    "    res=[-1]*n\n",
    "    stack=[]\n",
    "    for i in range(n-1,-1,-1):\n",
    "        while stack and stack[-1]<=arr[i]:\n",
    "            stack.pop()\n",
    "        if stack:\n",
    "            res[i] =stack[-1]\n",
    "        stack.append(arr[i])\n",
    "    return res \n",
    "\n",
    "arr = [6,8,0,1,3]\n",
    "print(nextGreaterElement(arr))"
   ]
  },
  {
   "cell_type": "code",
   "execution_count": 74,
   "id": "40e67d65",
   "metadata": {},
   "outputs": [
    {
     "name": "stdout",
     "output_type": "stream",
     "text": [
      "4\n"
     ]
    }
   ],
   "source": [
    "def LongestSubStringWithoutRepeating(s):\n",
    "    chr_mp ={}\n",
    "    left =0\n",
    "    max_len =0\n",
    "    for i in range(len(s)):\n",
    "        if s[i] in chr_mp:\n",
    "            left = max(left,chr_mp[s[i]]+1)\n",
    "        chr_mp[s[i]] =i \n",
    "        max_len =max(max_len,i-left+1)\n",
    "    return max_len\n",
    "s='abcabcdbc'\n",
    "print(LongestSubStringWithoutRepeating(s))\n",
    "            "
   ]
  },
  {
   "cell_type": "code",
   "execution_count": 75,
   "id": "b64ed0ed",
   "metadata": {},
   "outputs": [
    {
     "name": "stdout",
     "output_type": "stream",
     "text": [
      "[0, 0, 0, 0, 24]\n"
     ]
    }
   ],
   "source": [
    "a=[1,2,3,4,0]\n",
    "output = [1]*len(arr)\n",
    "left_prod =1\n",
    "for i in range(len(a)):\n",
    "    output[i]*=left_prod\n",
    "    left_prod*=a[i]\n",
    "\n",
    "right_prod= 1\n",
    "for i in range(len(a)-1,-1,-1):\n",
    "    output[i]*=right_prod\n",
    "    right_prod*=a[i]\n",
    "print(output)"
   ]
  },
  {
   "cell_type": "code",
   "execution_count": 78,
   "id": "471c3d33",
   "metadata": {},
   "outputs": [
    {
     "name": "stdout",
     "output_type": "stream",
     "text": [
      "3\n"
     ]
    }
   ],
   "source": [
    "'''\n",
    "Problem Statement\n",
    "You are given an array of integers coins,\n",
    "where each integer represents a distinct coin denomination, \n",
    "and a total amount of money, amount.\n",
    "Your task is to write a function that calculates and returns the fewest number of coins required to make up that amount.\n",
    "\n",
    "If the amount cannot be made up by any combination of the given coins, your function should return -1.\n",
    "\n",
    "You may assume that you have an infinite supply of each kind of coin.\n",
    "\n",
    "Inputs\n",
    "coins: A list of integers representing the available coin denominations (e.g., [1, 2, 5]).\n",
    "\n",
    "amount: An integer representing the total amount of money to be made.\n",
    "\n",
    "Output\n",
    "An integer representing the minimum number of coins needed.\n",
    "\n",
    "-1 if it's impossible to make the specified amount.\n",
    "\n",
    "Examples\n",
    "Example 1\n",
    "Input: coins = [1, 2, 5], amount = 11\n",
    "Output: 3\n",
    "Explanation: The optimal combination is 5 + 5 + 1.\n",
    "\n",
    "Example 2\n",
    "Input: coins = [2], amount = 3\n",
    "Output: -1\n",
    "Explanation: You cannot make an amount of 3 using only coins of denomination 2.\n",
    "\n",
    "Example 3\n",
    "Input: coins = [1, 3, 4], amount = 6\n",
    "Output: 2\n",
    "Explanation: The optimal combination is 3 + 3. A greedy approach of taking the largest coin first (4) would result in 4 + 1 + 1, which uses 3 coins and is not optimal.\n",
    "\n",
    "Key Constraints\n",
    "Typically, the problem includes the following constraints to define the scope:\n",
    "\n",
    "The number of coins in the coins array will be between 1 and 12.\n",
    "\n",
    "The denomination of each coin will be a positive integer.\n",
    "\n",
    "The amount will be a non-negative integer. \n",
    "'''\n",
    "def minimumCoin(arr,target):\n",
    "    dp =[float('inf')]* (target+1)\n",
    "    dp[0] = 0\n",
    "    for coin in arr:\n",
    "        for i in range(coin, target+1):\n",
    "            dp[i] = min(dp[i],dp[i-coin]+1)\n",
    "    return dp[target] if dp[target]!= float('inf') else -1\n",
    "print(minimumCoin([1,2,5],11))"
   ]
  },
  {
   "cell_type": "code",
   "execution_count": null,
   "id": "9b380143",
   "metadata": {},
   "outputs": [
    {
     "name": "stdout",
     "output_type": "stream",
     "text": [
      "3\n"
     ]
    }
   ],
   "source": [
    "'''\n",
    "Problem Statement\n",
    "You are given the arrival and departure times of n trains that use a single railway station. \n",
    "Your task is to find the minimum number of platforms required so that no train has to wait for another to leave.\n",
    "\n",
    "You are provided with two arrays, arrival and departure, both of size n. \n",
    "arrival[i] is the arrival time of the i-th train, and departure[i] is the departure time of the i-th train.\n",
    "\n",
    "A platform can only be occupied by one train at a time.\n",
    "\n",
    "Inputs\n",
    "arrival: A list of integers representing the arrival times of the trains.\n",
    "\n",
    "departure: A list of integers representing the departure times of the corresponding trains.\n",
    "\n",
    "Output\n",
    "An integer representing the minimum number of platforms required at \n",
    "the station to accommodate all trains without any of them having to wait.\n",
    "\n",
    "Example\n",
    "Input:\n",
    "arrival = [900, 940, 950, 1100, 1500, 1800]\n",
    "departure = [910, 1200, 1120, 1130, 1900, 2000]\n",
    "\n",
    "Output: 3 \n",
    "'''\n",
    "def minimumTrains(arrival, departure):\n",
    "    arrival.sort()\n",
    "    departure.sort()\n",
    "    n = len(arrival)\n",
    "    platforms = 0\n",
    "    max_platforms = 0\n",
    "    i = 0\n",
    "    j = 0\n",
    "    while i < n and j < n:\n",
    "        if arrival[i] <= departure[j]:\n",
    "            platforms += 1\n",
    "            max_platforms = max(max_platforms, platforms)\n",
    "            i += 1\n",
    "        else:\n",
    "            platforms -= 1\n",
    "            j += 1\n",
    "    return max_platforms\n",
    "arrival = [900, 940, 950, 1100, 1500, 1800]\n",
    "departure = [910, 1200, 1120, 1130, 1900, 2000]\n",
    "print(minimumTrains(arrival, departure))"
   ]
  },
  {
   "cell_type": "code",
   "execution_count": 84,
   "id": "98db9a93",
   "metadata": {},
   "outputs": [
    {
     "name": "stdout",
     "output_type": "stream",
     "text": [
      "2\n"
     ]
    }
   ],
   "source": [
    "''' \n",
    "Problem Statement\n",
    "You are given a string of text and a target word. \n",
    "Your task is to write a function that counts and returns the number of times the target word appears in the text.\n",
    "\n",
    "The counting must adhere to two specific rules:\n",
    "\n",
    "Case-Insensitive: The match must ignore case. \n",
    "For example, if the target word is \"apple\", it should match \"Apple\", \"APPLE\", and \"apple\".\n",
    "\n",
    "Whole Words Only: The match must only count whole words. \n",
    "The target word should not be counted if it appears as a substring inside a larger word. \n",
    "This is often called \"word boundary\" handling.\n",
    "\n",
    "Inputs\n",
    "text: A string representing the body of text to search within.\n",
    "\n",
    "word: A string representing the target word to count.\n",
    "\n",
    "Output\n",
    "An integer representing the total number of times the whole word appears in the text, ignoring case.\n",
    "\n",
    "Examples\n",
    "Example 1\n",
    "Input:\n",
    "text = \"The quick brown fox jumps over the lazy dog.\"\n",
    "word = \"the\"\n",
    "Output: 2\n",
    "Explanation: It matches \"The\" and \"the\", ignoring case.\n",
    "\n",
    "Example 2\n",
    "Input:\n",
    "text = \"Go is a great language. I'm going to learn Go! Don't be a gopher.\"\n",
    "word = \"go\"\n",
    "Output: 2\n",
    "Explanation: It matches \"Go\" and \"Go!\", but correctly ignores \"going\" and \"gopher\" because they are not whole words.\n",
    "\n",
    "Example 3\n",
    "Input:\n",
    "text = \"Catering is a difficult task, so don't be catty.\"\n",
    "word = \"cat\"\n",
    "Output: 0\n",
    "Explanation: Although the letters \"cat\" appear, they are part of larger words (\"Catering\" and \"catty\") and are not counted.\n",
    "'''\n",
    "import re\n",
    "def count_word_occurrences(text, word):\n",
    "    patter = r'\\b' +re.escape(word)+r'\\b'\n",
    "    words = re.findall(patter,text, re.IGNORECASE)\n",
    "    return len(words)\n",
    "text = \"Go is a great language. I'm going to learn Go! Don't be a gopher.\"\n",
    "word = \"go\"\n",
    "print(count_word_occurrences(text, word))"
   ]
  },
  {
   "cell_type": "code",
   "execution_count": 86,
   "id": "4e155b90",
   "metadata": {},
   "outputs": [
    {
     "name": "stdout",
     "output_type": "stream",
     "text": [
      "4\n"
     ]
    }
   ],
   "source": [
    "def longestConsecutive(nums):\n",
    "    if not nums:\n",
    "        return 0\n",
    "    nums_set = set(nums)\n",
    "    max_len = 0\n",
    "    for i in nums_set:\n",
    "        if (i-1) not in nums_set:\n",
    "            curr_ele = i\n",
    "            curr_len =1\n",
    "            while (curr_ele+1) in nums_set:\n",
    "                curr_ele+=1\n",
    "                curr_len+=1\n",
    "            max_len = max(max_len,curr_len)\n",
    "    return max_len \n",
    "arr = [4,100,200,3,2,1]\n",
    "print(longestConsecutive(arr))"
   ]
  },
  {
   "cell_type": "code",
   "execution_count": null,
   "id": "017382ab",
   "metadata": {},
   "outputs": [],
   "source": []
  }
 ],
 "metadata": {
  "kernelspec": {
   "display_name": "Python 3",
   "language": "python",
   "name": "python3"
  },
  "language_info": {
   "codemirror_mode": {
    "name": "ipython",
    "version": 3
   },
   "file_extension": ".py",
   "mimetype": "text/x-python",
   "name": "python",
   "nbconvert_exporter": "python",
   "pygments_lexer": "ipython3",
   "version": "3.12.0"
  }
 },
 "nbformat": 4,
 "nbformat_minor": 5
}
